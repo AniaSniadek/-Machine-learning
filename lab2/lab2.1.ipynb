{
 "metadata": {
  "language_info": {
   "codemirror_mode": {
    "name": "ipython",
    "version": 3
   },
   "file_extension": ".py",
   "mimetype": "text/x-python",
   "name": "python",
   "nbconvert_exporter": "python",
   "pygments_lexer": "ipython3",
   "version": "3.6.9-final"
  },
  "orig_nbformat": 2,
  "kernelspec": {
   "name": "python3",
   "display_name": "Python 3",
   "language": "python"
  }
 },
 "nbformat": 4,
 "nbformat_minor": 2,
 "cells": [
  {
   "cell_type": "code",
   "execution_count": 2,
   "metadata": {},
   "outputs": [
    {
     "output_type": "display_data",
     "data": {
      "text/plain": "<IPython.core.display.Math object>",
      "text/latex": "$\\displaystyle \\large\\textrm{Wynik:}\\quad \\theta = \\left[\\begin{array}{r}16.9675 \\\\\\\\ 1.3149 \\\\\\\\ \\end{array}\\right] \\quad J(\\theta) = 180.4102 \\quad \\textrm{po 17780 iteracjach}$"
     },
     "metadata": {}
    },
    {
     "output_type": "stream",
     "name": "stdout",
     "text": [
      "82.70999487819813\n148.45251499453076\n279.93755522719596\n"
     ]
    }
   ],
   "source": [
    "import numpy as np\n",
    "import csv\n",
    "\n",
    "from IPython.display import display, Math, Latex\n",
    "\n",
    "reader = csv.reader(open('fires_thefts.csv'), delimiter=',')\n",
    "\n",
    "x = list()\n",
    "y = list()\n",
    "for xi, yi in reader:\n",
    "    x.append(float(xi))\n",
    "    y.append(float(yi))\n",
    "\n",
    "# Hipoteza: funkcja liniowa jednej zmiennej\n",
    "def h(theta, x):\n",
    "    return theta[0] + theta[1] * x\n",
    "\n",
    "def funkcja_kosztu(h, theta, x, y):\n",
    "    m = len(y)\n",
    "    return 1.0 / (2 * m) * sum((h(theta, x[i]) - y[i])**2 for i in range(m))\n",
    "\n",
    "def gradient_descent(h, cost_fun, theta, x, y, alpha, eps):\n",
    "    current_cost = cost_fun(h, theta, x, y)\n",
    "    log = [[current_cost, theta]]  # log przechowuje wartości kosztu i parametrów\n",
    "    m = len(y)\n",
    "    while True:\n",
    "        new_theta = [\n",
    "            theta[0] - alpha/float(m) * sum(h(theta, x[i]) - y[i]\n",
    "                                            for i in range(m)),\n",
    "            theta[1] - alpha/float(m) * sum((h(theta, x[i]) - y[i]) * x[i]\n",
    "                                            for i in range(m))]\n",
    "        theta = new_theta  # jednoczesna aktualizacja - używamy zmiennej tymaczasowej\n",
    "        try:\n",
    "            current_cost, prev_cost = cost_fun(h, theta, x, y), current_cost\n",
    "        except OverflowError:\n",
    "            break\n",
    "        if abs(prev_cost - current_cost) <= eps:\n",
    "            break\n",
    "        log.append([current_cost, theta])\n",
    "    return theta, log\n",
    "\n",
    "# Wyświetlanie macierzy w LaTeX-u:\n",
    "def LatexMatrix(matrix):\n",
    "    ltx = r'\\left[\\begin{array}'\n",
    "    m, n = matrix.shape\n",
    "    ltx += '{' + (\"r\" * n) + '}'\n",
    "    for i in range(m):\n",
    "        ltx += r\" & \".join([('%.4f' % j.item()) for j in matrix[i]]) + r\" \\\\\\\\ \"\n",
    "    ltx += r'\\end{array}\\right]'\n",
    "    return ltx\n",
    "\n",
    "# Obliczanie parametrów θ krzywej regresyjnej dla alpha 0.001, 0.01 i 0.1\n",
    "best_theta_001, log_001 = gradient_descent(h, funkcja_kosztu, [0.0, 0.0], x, y, alpha=0.001, eps=0.0000001)\n",
    "best_theta_01, log_01 = gradient_descent(h, funkcja_kosztu, [0.0, 0.0], x, y, alpha=0.01, eps=0.0000001)\n",
    "best_theta_1, log_1 = gradient_descent(h, funkcja_kosztu, [0.0, 0.0], x, y, alpha=0.1, eps=0.0000001)\n",
    "\n",
    "# Wyświetlanie wyniku\n",
    "display(Math(r'\\large\\textrm{Wynik:}\\quad \\theta = ' +\n",
    "             LatexMatrix(np.matrix(best_theta_001).reshape(2,1)) +\n",
    "            (r' \\quad J(\\theta) = %.4f' % log_001[-1][0])\n",
    "            + r' \\quad \\textrm{po %d iteracjach}' % len(log_001)))\n",
    "\n",
    "# Predykcja\n",
    "predicted_y = h(best_theta_001, 50)\n",
    "print(predicted_y)\n",
    "predicted_y = h(best_theta_001, 100)\n",
    "print(predicted_y)\n",
    "predicted_y = h(best_theta_001, 200)\n",
    "print(predicted_y)\n",
    "\n"
   ]
  },
  {
   "cell_type": "code",
   "execution_count": null,
   "metadata": {},
   "outputs": [],
   "source": []
  }
 ]
}